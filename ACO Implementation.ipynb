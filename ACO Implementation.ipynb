{
 "cells": [
  {
   "cell_type": "markdown",
   "id": "4f52c37e",
   "metadata": {},
   "source": [
    " # Ant Colony Optimization (ACO) Implementation (Travel sealsman problem)"
   ]
  },
  {
   "cell_type": "markdown",
   "id": "d14ac611",
   "metadata": {},
   "source": [
    "Ant Colony Optimization (ACO) is a metaheuristic optimization algorithm inspired by the behavior of ants searching for food. It can be applied to a variety of optimization problems, including the Traveling Salesman Problem (TSP), which is a classic problem in combinatorial optimization.Here below is the implementation using python language"
   ]
  },
  {
   "cell_type": "markdown",
   "id": "e773086f",
   "metadata": {},
   "source": [
    "The first step to start with is to define the parameters necessary for our algorithm.The choice of these parameters is ranom so the number of cities can be changed depending on the example"
   ]
  },
  {
   "cell_type": "code",
   "execution_count": 6,
   "id": "91d29d16",
   "metadata": {},
   "outputs": [],
   "source": [
    "import numpy as np\n",
    "# Parameters\n",
    "num_ants = 10\n",
    "num_cities = 20\n",
    "num_iterations = 100\n",
    "alpha = 1 # pheromone trail importance\n",
    "beta = 2 # heuristic information importance\n",
    "rho = 0.1 # pheromone decay\n"
   ]
  },
  {
   "cell_type": "code",
   "execution_count": 3,
   "id": "0899225b",
   "metadata": {},
   "outputs": [],
   "source": [
    "# Create distance matrix\n",
    "distance_matrix = np.random.randint(low=1, high=10, size=(num_cities, num_cities))\n",
    "\n",
    "# Initialize pheromone matrix\n",
    "pheromone_matrix = np.ones((num_cities, num_cities)) / (num_cities * num_cities)"
   ]
  },
  {
   "cell_type": "code",
   "execution_count": null,
   "id": "500fb252",
   "metadata": {},
   "outputs": [],
   "source": [
    "Now ,we define our main function select_next_city() which chooses the nextcity to visit based on a combination of pheromone trail information and heuristic information"
   ]
  },
  {
   "cell_type": "code",
   "execution_count": 7,
   "id": "d06cddde",
   "metadata": {},
   "outputs": [],
   "source": [
    "def select_next_city(current_city, route, distance_matrix, pheromone_matrix, alpha, beta):\n",
    "    # Create a list of unvisited cities\n",
    "    unvisited_cities = list(set(range(num_cities)) - set(route))\n",
    "    # Create a list of transition probabilities\n",
    "    transition_probabilities = []\n",
    "    for next_city in unvisited_cities:\n",
    "        pheromone = pheromone_matrix[current_city][next_city]\n",
    "        distance = distance_matrix[current_city][next_city]\n",
    "        heuristic = 1 / distance\n",
    "        probability = (pheromone**alpha) * (heuristic**beta)\n",
    "        transition_probabilities.append(probability)\n",
    "    # Normalize the probabilities\n",
    "    transition_probabilities = transition_probabilities / np.sum(transition_probabilities)\n",
    "    # Select the next city based on the probabilities\n",
    "    next_city = np.random.choice(unvisited_cities, p=transition_probabilities)\n",
    "    return next_city"
   ]
  },
  {
   "cell_type": "markdown",
   "id": "9b6dc6f5",
   "metadata": {},
   "source": [
    "The next step is to define the update_pheromone_matrix"
   ]
  },
  {
   "cell_type": "code",
   "execution_count": 8,
   "id": "01d9c864",
   "metadata": {},
   "outputs": [],
   "source": [
    "def update_pheromone_matrix(pheromone_matrix, solutions, distance_matrix, rho):\n",
    "    # Initialize a new pheromone matrix\n",
    "    new_pheromone_matrix = np.zeros((num_cities, num_cities))\n",
    "    for solution in solutions:\n",
    "        for i in range(num_cities - 1):\n",
    "            city1 = solution[i]\n",
    "            city2 = solution[i+1]\n",
    "            # Calculate the delta pheromone\n",
    "            delta_pheromone = 1 / calculate_distance(solution, distance_matrix)\n",
    "            # Update the pheromone\n",
    "            new_pheromone_matrix[city1][city2] += delta_pheromone\n",
    "            new_pheromone_matrix[city2][city1] += delta_pheromone\n",
    "    # Update the pheromone matrix\n",
    "    pheromone_matrix = (1 - rho) * pheromone_matrix + new_pheromone_matrix"
   ]
  },
  {
   "cell_type": "code",
   "execution_count": 11,
   "id": "ea23f6a2",
   "metadata": {},
   "outputs": [
    {
     "name": "stdout",
     "output_type": "stream",
     "text": [
      "[13, 0, 15, 14, 11, 9, 3, 10, 18, 7, 17, 19, 6, 1, 4, 16, 5, 8, 2, 12]\n"
     ]
    }
   ],
   "source": [
    "#The calculate distance implementation\n",
    "def calculate_distance(route, distance_matrix):\n",
    "    total_distance = 0\n",
    "    for i in range(num_cities - 1):\n",
    "        city1 = route[i]\n",
    "        city2 = route[i+1]\n",
    "        total_distance += distance_matrix[city1][city2]\n",
    "    return total_distance\n",
    "\n",
    "# Main loop\n",
    "for iteration in range(num_iterations):\n",
    "\n",
    "    # Create a list to store the solution of each ant\n",
    "    solutions = []\n",
    "    for i in range(num_ants):\n",
    "\n",
    "        # Initialize current city and create an empty route\n",
    "        current_city = np.random.randint(num_cities)\n",
    "        route = [current_city]\n",
    "\n",
    "        # Select next city for each ant\n",
    "        for j in range(num_cities - 1):\n",
    "            next_city = select_next_city(current_city, route, distance_matrix, pheromone_matrix, alpha, beta)\n",
    "            route.append(next_city)\n",
    "            current_city = next_city\n",
    "\n",
    "        # Add the solution of the ant to the list of solutions\n",
    "        solutions.append(route)\n",
    "\n",
    "    # Update the pheromone matrix\n",
    "    update_pheromone_matrix(pheromone_matrix, solutions, distance_matrix, rho)\n",
    "\n",
    "# The best solution is the one with the shortest distance\n",
    "best_solution = min(solutions, key=lambda x: calculate_distance(x, distance_matrix))\n",
    "\n",
    "\n",
    "print(best_solution)\n"
   ]
  },
  {
   "cell_type": "markdown",
   "id": "1487c317",
   "metadata": {},
   "source": [
    "In this example, the select_next_city function selects the next city to visit based on a combination of pheromone trail information and heuristic information, update_pheromone_matrix updates the pheromone matrix based on the solution found by  ants, compute_distance is a city Calculate the total distance of  given route"
   ]
  },
  {
   "cell_type": "markdown",
   "id": "939ca267",
   "metadata": {},
   "source": [
    "# Written by ELHARRARI ANAS"
   ]
  }
 ],
 "metadata": {
  "celltoolbar": "Format de la Cellule Texte Brut",
  "kernelspec": {
   "display_name": "Python 3 (ipykernel)",
   "language": "python",
   "name": "python3"
  },
  "language_info": {
   "codemirror_mode": {
    "name": "ipython",
    "version": 3
   },
   "file_extension": ".py",
   "mimetype": "text/x-python",
   "name": "python",
   "nbconvert_exporter": "python",
   "pygments_lexer": "ipython3",
   "version": "3.9.13"
  }
 },
 "nbformat": 4,
 "nbformat_minor": 5
}
